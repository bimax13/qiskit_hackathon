{
 "cells": [
  {
   "cell_type": "code",
   "execution_count": null,
   "id": "d5fcf9ae",
   "metadata": {},
   "outputs": [],
   "source": [
    "from qiskit import * \n",
    "import qiskit_aer\n",
    "from qiskit_aer import AerSimulator\n",
    "from qiskit.visualization import plot_histogram\n",
    "import matplotlib.pyplot as plt\n",
    "import numpy as np"
   ]
  },
  {
   "cell_type": "code",
   "execution_count": 1,
   "id": "f1c2dc14",
   "metadata": {},
   "outputs": [],
   "source": [
    "class Sender:\n",
    "    def __init__(self, n_bits):\n",
    "        self.sender_bits = np.random.randint(2, size = n_bits)\n",
    "        self.sender_bases = np.random.randint(2, size = n_bits)\n",
    "        self._nbits = n_bits \n",
    "\n",
    "   \n",
    "\n",
    "    def encode(self):\n",
    "        circuits=[]\n",
    "        for bit, basis in zip(self.sender_bits, self.sender_bases):\n",
    "            qc = QuantumCircuit(1,1)\n",
    "            if basis==0:\n",
    "                if bit == 1:\n",
    "                    qc.x(0)\n",
    "            else:\n",
    "                if bit == 0:\n",
    "                    qc.h(0)\n",
    "                else:\n",
    "                    qc.x(0)\n",
    "                    qc.h(0)\n",
    "            qc.draw('mpl')\n",
    "            circuits.append(qc)\n",
    "\n",
    "            \n",
    "        return circuits\n",
    "\n",
    "                \n",
    "\n",
    "\n",
    "Alice = Sender(4)\n",
    "Alice.encode()\n",
    "\n",
    "plt.show()"
   ]
  },
  {
   "cell_type": "code",
   "execution_count": null,
   "id": "b787ddfc",
   "metadata": {},
   "outputs": [],
   "source": []
  }
 ],
 "metadata": {
  "kernelspec": {
   "display_name": ".venv",
   "language": "python",
   "name": "python3"
  },
  "language_info": {
   "codemirror_mode": {
    "name": "ipython",
    "version": 3
   },
   "file_extension": ".py",
   "mimetype": "text/x-python",
   "name": "python",
   "nbconvert_exporter": "python",
   "pygments_lexer": "ipython3",
   "version": "3.10.12"
  }
 },
 "nbformat": 4,
 "nbformat_minor": 5
}
