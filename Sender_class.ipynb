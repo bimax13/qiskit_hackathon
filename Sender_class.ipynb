{
 "cells": [
  {
   "cell_type": "code",
   "execution_count": 22,
   "id": "d5fcf9ae",
   "metadata": {},
   "outputs": [],
   "source": [
    "from qiskit import *\n",
    "from qiskit_aer import AerSimulator\n",
    "from qiskit.visualization import plot_histogram\n",
    "import matplotlib.pyplot as plt\n",
    "import numpy as np"
   ]
  },
  {
   "cell_type": "code",
   "execution_count": 23,
   "id": "f1c2dc14",
   "metadata": {},
   "outputs": [],
   "source": [
    "class Sender:\n",
    "    def _init_(self, n_bits):\n",
    "        self.sender_bits = np.random.randint(2, size = n_bits)\n",
    "        self._sender_bases = np.random.randint(2, size = n_bits)\n",
    "\n",
    "    def sender_bases(self):\n",
    "        return self._sender_bases\n",
    "\n",
    "    def encode(self, sender_bits, sender_bases):\n",
    "        circuits=[]\n",
    "        for bit, basis in sender_bits,sender_bases:\n",
    "            qc = QuantumCircuit(1,1)\n",
    "            if basis==0:\n",
    "                if bit == 1:\n",
    "                    qc.x(0)\n",
    "            else:\n",
    "                if bit == 0:\n",
    "                    qc.h(0)\n",
    "                else:\n",
    "                    qc.x(0)\n",
    "                    qc.h(0)\n",
    "            circuits.append(qc)\n",
    "\n",
    "        return circuits\n",
    "\n",
    "                \n",
    "\n"
   ]
  }
 ],
 "metadata": {
  "kernelspec": {
   "display_name": ".venv",
   "language": "python",
   "name": "python3"
  },
  "language_info": {
   "codemirror_mode": {
    "name": "ipython",
    "version": 3
   },
   "file_extension": ".py",
   "mimetype": "text/x-python",
   "name": "python",
   "nbconvert_exporter": "python",
   "pygments_lexer": "ipython3",
   "version": "3.10.12"
  }
 },
 "nbformat": 4,
 "nbformat_minor": 5
}
