{
 "cells": [
  {
   "cell_type": "code",
   "execution_count": null,
   "id": "57a80bde",
   "metadata": {},
   "outputs": [],
   "source": [
    "from qiskit import QuantumCircuit, transpile, execute\n",
    "from qiskit_aer import AerSimulator\n",
    "import numpy as np\n",
    "from typing import List, Tuple\n",
    "\n"
   ]
  },
  {
   "cell_type": "markdown",
   "id": "d760ddbb",
   "metadata": {},
   "source": [
    "1) Create Receiver class\n",
    "2) Take in the sent bits\n",
    "3) Write a function to incorporate noise to the sent bits\n",
    "4) Take the sent bits and measure them with or without noise - basically noise should be optional to incorporate\n"
   ]
  },
  {
   "cell_type": "markdown",
   "id": "2ad87ea6",
   "metadata": {},
   "source": []
  },
  {
   "cell_type": "code",
   "execution_count": null,
   "id": "8c280216",
   "metadata": {},
   "outputs": [],
   "source": [
    "\n",
    "def generate_bases(n_bits: int) -> np.ndarray:\n",
    "    \"\"\"Generate random measurement bases for Bob: 0 = Z, 1 = X.\"\"\"\n",
    "    return np.random.randint(2, size=n_bits)\n"
   ]
  },
  {
   "cell_type": "code",
   "execution_count": null,
   "id": "494607f6",
   "metadata": {},
   "outputs": [],
   "source": [
    "\n",
    "\n",
    "def apply_noise(circuits: List[QuantumCircuit], noise_type: str = \"none\", noise_prob: float = 0.05) -> List[QuantumCircuit]:\n",
    "    \"\"\"Apply optional noise to each qubit circuit in the list.\"\"\"\n",
    "    noisy_circuits = []\n",
    "\n",
    "    for qc in circuits:\n",
    "        noisy_qc = qc.copy()  # make a copy to avoid modifying original\n",
    "\n",
    "        # Apply noise probabilistically\n",
    "        if noise_type != \"none\" and np.random.rand() < noise_prob:\n",
    "            if noise_type == \"bit-flip\":\n",
    "                noisy_qc.x(0)\n",
    "            elif noise_type == \"phase-flip\":\n",
    "                noisy_qc.z(0)\n",
    "            elif noise_type == \"depolarizing\":\n",
    "                gate = np.random.choice([\"x\", \"y\", \"z\"])\n",
    "                if gate == \"x\":\n",
    "                    noisy_qc.x(0)\n",
    "                elif gate == \"y\":\n",
    "                    noisy_qc.y(0)\n",
    "                else:\n",
    "                    noisy_qc.z(0)\n",
    "\n",
    "        noisy_circuits.append(noisy_qc)\n",
    "\n",
    "    return noisy_circuits\n"
   ]
  },
  {
   "cell_type": "code",
   "execution_count": null,
   "id": "27e937ac",
   "metadata": {},
   "outputs": [],
   "source": [
    "def measure_qubits(circuits, bob_bases, noise_type: str = \"none\", noise_prob: float = 0.05):\n",
    "    backend = AerSimulator()\n",
    "    measured_bits = []\n",
    "\n",
    "    for qc, basis in zip(circuits, bob_bases):\n",
    "        noisy_qc = qc.copy()\n",
    "\n",
    "        # Apply optional noise\n",
    "        noisy_qc = apply_noise(noisy_qc, noise_type, noise_prob)\n",
    "\n",
    "        # Apply Bob's measurement basis\n",
    "        if basis == 1:  # X-basis\n",
    "            noisy_qc.h(0)\n",
    "\n",
    "        # Measure\n",
    "        noisy_qc.measure(0, 0)\n",
    "        transpiled_qc = transpile(noisy_qc, backend)\n",
    "        job = backend.run(transpiled_qc, shots=1, memory=True)\n",
    "        result = job.result()\n",
    "        bit = int(result.get_memory()[0])\n",
    "        measured_bits.append(bit)\n",
    "\n",
    "    return measured_bits"
   ]
  }
 ],
 "metadata": {
  "kernelspec": {
   "display_name": "cq",
   "language": "python",
   "name": "python3"
  },
  "language_info": {
   "codemirror_mode": {
    "name": "ipython",
    "version": 3
   },
   "file_extension": ".py",
   "mimetype": "text/x-python",
   "name": "python",
   "nbconvert_exporter": "python",
   "pygments_lexer": "ipython3",
   "version": "3.11.14"
  }
 },
 "nbformat": 4,
 "nbformat_minor": 5
}
