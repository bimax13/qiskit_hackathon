{
 "cells": [
  {
   "cell_type": "code",
   "execution_count": null,
   "id": "57a80bde",
   "metadata": {},
   "outputs": [],
   "source": [
    "from qiskit import QuantumCircuit, transpile\n",
    "from qiskit_aer import AerSimulator\n",
    "import numpy as np\n",
    "from typing import List, Tuple"
   ]
  },
  {
   "cell_type": "markdown",
   "id": "d760ddbb",
   "metadata": {},
   "source": [
    "1) Create Receiver class"
   ]
  },
  {
   "cell_type": "code",
   "execution_count": null,
   "id": "24a4e4a2",
   "metadata": {},
   "outputs": [],
   "source": [
    "#random generator \n",
    "#measure_function which will measure the sender qubit\n",
    "#Compare bases and sift the key"
   ]
  },
  {
   "cell_type": "code",
   "execution_count": null,
   "id": "782f4e73",
   "metadata": {},
   "outputs": [],
   "source": [
    "class Receiver:\n",
    "    def __init__(self, n_bits):\n",
    "        self.receiver_bases = np.random.randint(2, size=n_bits)\n",
    "        self.measurements = []\n",
    "    \n",
    "    def measure_qubits(self, circuits):  # Added self parameter and fixed indentation\n",
    "        simulator = AerSimulator()\n",
    "        bob_results = []\n",
    "\n",
    "        for i, qc in enumerate(circuits):\n",
    "             from qiskit import Aer, execute\n",
    "        backend = Aer.get_backend('qasm_simulator')\n",
    "        for qc, basis in zip(circuits, self.receiver_bases):\n",
    "            if basis == 1:\n",
    "                qc.h(0)  # Convert X-basis to Z-basis for measurement\n",
    "            qc.measure(0, 0)\n",
    "            result = execute(qc, backend, shots=1).result()\n",
    "            counts = result.get_counts()\n",
    "            self.measurements.append(int(list(counts.keys())[0]))\n",
    "        return self.measurements"
   ]
  },
  {
   "cell_type": "code",
   "execution_count": null,
   "id": "aee24cec",
   "metadata": {},
   "outputs": [],
   "source": []
  },
  {
   "cell_type": "markdown",
   "id": "2ad87ea6",
   "metadata": {},
   "source": []
  }
 ],
 "metadata": {
  "kernelspec": {
   "display_name": "cq",
   "language": "python",
   "name": "python3"
  },
  "language_info": {
   "codemirror_mode": {
    "name": "ipython",
    "version": 3
   },
   "file_extension": ".py",
   "mimetype": "text/x-python",
   "name": "python",
   "nbconvert_exporter": "python",
   "pygments_lexer": "ipython3",
   "version": "3.11.14"
  }
 },
 "nbformat": 4,
 "nbformat_minor": 5
}
