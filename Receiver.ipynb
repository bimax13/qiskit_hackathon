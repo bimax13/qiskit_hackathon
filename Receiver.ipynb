{
 "cells": [
  {
   "cell_type": "code",
   "execution_count": null,
   "id": "57a80bde",
   "metadata": {},
   "outputs": [],
   "source": [
    "from qiskit import QuantumCircuit, transpile\n",
    "from qiskit_aer import AerSimulator\n",
    "import numpy as np\n",
    "from typing import List, Tuple"
   ]
  },
  {
   "cell_type": "markdown",
   "id": "d760ddbb",
   "metadata": {},
   "source": [
    "1) Create Receiver class"
   ]
  },
  {
   "cell_type": "code",
   "execution_count": null,
   "id": "24a4e4a2",
   "metadata": {},
   "outputs": [],
   "source": [
    "#random generator \n",
    "#measure_function which will measure the sender qubit\n",
    "#Compare bases and sift the key"
   ]
  },
  {
   "cell_type": "code",
   "execution_count": null,
   "id": "acaa3e30",
   "metadata": {},
   "outputs": [],
   "source": [
    "def generate_random_bases(num_qubits, seed=None):\n",
    "    if seed is not None:\n",
    "        np.random.seed(seed)\n",
    "    # Bob randomly chooses 'Z' == 0 or 'X' == 1 bases\n",
    "    return np.random.choice([0, 1], size=num_qubits)"
   ]
  },
  {
   "cell_type": "code",
   "execution_count": null,
   "id": "aee24cec",
   "metadata": {},
   "outputs": [],
   "source": [
    "def measure_qubits(circuits, bob_bases):\n",
    "    simulator = AerSimulator()\n",
    "    bob_results = []\n",
    "\n",
    "    for i, qc in enumerate(circuits):\n",
    "        qc_copy = qc.copy()\n",
    "        # If Bob chooses X basis, rotate before measuring\n",
    "        if bob_bases[i] == 1:\n",
    "            qc_copy.h(0)\n",
    "        qc_copy.measure(0, 0)\n",
    "\n",
    "        compiled = transpile(qc_copy, simulator)\n",
    "        result = simulator.run(compiled, shots=1).result()\n",
    "        measured_bit = int(list(result.get_counts().keys())[0])\n",
    "        bob_results.append(measured_bit)\n",
    "\n",
    "    return bob_results"
   ]
  },
  {
   "cell_type": "markdown",
   "id": "2ad87ea6",
   "metadata": {},
   "source": []
  }
 ],
 "metadata": {
  "kernelspec": {
   "display_name": "cq",
   "language": "python",
   "name": "python3"
  },
  "language_info": {
   "codemirror_mode": {
    "name": "ipython",
    "version": 3
   },
   "file_extension": ".py",
   "mimetype": "text/x-python",
   "name": "python",
   "nbconvert_exporter": "python",
   "pygments_lexer": "ipython3",
   "version": "3.11.14"
  }
 },
 "nbformat": 4,
 "nbformat_minor": 5
}
