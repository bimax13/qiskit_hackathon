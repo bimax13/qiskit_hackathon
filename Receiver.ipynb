{
 "cells": [
  {
   "cell_type": "code",
   "execution_count": null,
   "id": "57a80bde",
   "metadata": {},
   "outputs": [],
   "source": [
    "from qiskit import QuantumCircuit, transpile, execute\n",
    "from qiskit_aer import AerSimulator\n",
    "import numpy as np\n",
    "from typing import List, Tuple\n",
    "\n"
   ]
  },
  {
   "cell_type": "markdown",
   "id": "d760ddbb",
   "metadata": {},
   "source": [
    "1) Create Receiver class"
   ]
  },
  {
   "cell_type": "code",
   "execution_count": null,
   "id": "08c351fb",
   "metadata": {},
   "outputs": [],
   "source": [
    "#Bit flip noise version\n",
    "class Receiver:\n",
    "    def __init__(self, n_bits, noise_prob=0.05):\n",
    "        self.receiver_bases = np.random.randint(2, size=n_bits)\n",
    "        self.noise_prob = noise_prob\n",
    "\n",
    "    def measure_qubits_with_noise(self, circuits):\n",
    "        backend = AerSimulator()\n",
    "        measured_bits = []\n",
    "\n",
    "        for i, qc in enumerate(circuits):\n",
    "            noisy_qc = qc.copy()\n",
    "\n",
    "            # Apply bit-flip noise\n",
    "            if np.random.rand() < self.noise_prob:\n",
    "                noisy_qc.x(0)\n",
    "\n",
    "            # Bob's basis change\n",
    "            if self.receiver_bases[i] == 1:\n",
    "                noisy_qc.h(0)\n",
    "\n",
    "            # Measurement\n",
    "            noisy_qc.measure(0, 0)\n",
    "\n",
    "            # Run on AerSimulator\n",
    "            transpiled_qc = transpile(noisy_qc, backend)\n",
    "            job = backend.run(transpiled_qc, shots=1, memory=True)\n",
    "            result = job.result()\n",
    "            bit = int(result.get_memory()[0])\n",
    "            measured_bits.append(bit)\n",
    "\n",
    "        return measured_bits"
   ]
  },
  {
   "cell_type": "code",
   "execution_count": null,
   "id": "6251c361",
   "metadata": {},
   "outputs": [],
   "source": [
    "#Depolarizing noise version\n",
    "\n",
    "import numpy as np\n",
    "from qiskit import QuantumCircuit, transpile\n",
    "from qiskit_aer import AerSimulator\n",
    "\n",
    "class Receiver:\n",
    "    def __init__(self, n_bits, depol_prob=0.05):\n",
    "        self.receiver_bases = np.random.randint(2, size=n_bits)\n",
    "        self.depol_prob = depol_prob\n",
    "\n",
    "    def measure_qubits_with_depolarizing_noise(self, circuits):\n",
    "        backend = AerSimulator()\n",
    "        measured_bits = []\n",
    "\n",
    "        for i, qc in enumerate(circuits):\n",
    "            noisy_qc = qc.copy()\n",
    "\n",
    "            # --- Depolarizing noise ---\n",
    "            if np.random.rand() < self.depol_prob:\n",
    "                noise_gate = np.random.choice(['X', 'Y', 'Z'])\n",
    "                if noise_gate == 'X':\n",
    "                    noisy_qc.x(0)\n",
    "                elif noise_gate == 'Y':\n",
    "                    noisy_qc.y(0)\n",
    "                else:\n",
    "                    noisy_qc.z(0)\n",
    "\n",
    "            # Apply Bob's basis\n",
    "            if self.receiver_bases[i] == 1:\n",
    "                noisy_qc.h(0)\n",
    "\n",
    "            # Measurement\n",
    "            noisy_qc.measure(0, 0)\n",
    "            transpiled_qc = transpile(noisy_qc, backend)\n",
    "            job = backend.run(transpiled_qc, shots=1, memory=True)\n",
    "            result = job.result()\n",
    "            bit = int(result.get_memory()[0])\n",
    "            measured_bits.append(bit)\n",
    "\n",
    "        return measured_bits\n"
   ]
  },
  {
   "cell_type": "code",
   "execution_count": null,
   "id": "24a4e4a2",
   "metadata": {},
   "outputs": [],
   "source": [
    "#random generator \n",
    "#measure_function which will measure the sender qubit\n",
    "#Compare bases and sift the key"
   ]
  },
  {
   "cell_type": "code",
   "execution_count": null,
   "id": "782f4e73",
   "metadata": {},
   "outputs": [],
   "source": [
    "#Ideal version with no noise\n",
    "class Receiver:\n",
    "    def __init__(self, n_bits):\n",
    "        self.receiver_bases = np.random.randint(2, size=n_bits)\n",
    "        self.measurements = []\n",
    "    \n",
    "    def measure_qubits(self, circuits):  # Added self parameter and fixed indentation\n",
    "        simulator = AerSimulator()\n",
    "        bob_results = []\n",
    "\n",
    "        for i, qc in enumerate(circuits):\n",
    "             from qiskit import Aer, execute\n",
    "        backend = Aer.get_backend('qasm_simulator')\n",
    "        for qc, basis in zip(circuits, self.receiver_bases):\n",
    "            if basis == 1:\n",
    "                qc.h(0)  # Convert X-basis to Z-basis for measurement\n",
    "            qc.measure(0, 0)\n",
    "            result = execute(qc, backend, shots=1).result()\n",
    "            counts = result.get_counts()\n",
    "            self.measurements.append(int(list(counts.keys())[0]))\n",
    "        return self.measurements"
   ]
  },
  {
   "cell_type": "markdown",
   "id": "2ad87ea6",
   "metadata": {},
   "source": []
  }
 ],
 "metadata": {
  "kernelspec": {
   "display_name": "cq",
   "language": "python",
   "name": "python3"
  },
  "language_info": {
   "codemirror_mode": {
    "name": "ipython",
    "version": 3
   },
   "file_extension": ".py",
   "mimetype": "text/x-python",
   "name": "python",
   "nbconvert_exporter": "python",
   "pygments_lexer": "ipython3",
   "version": "3.11.14"
  }
 },
 "nbformat": 4,
 "nbformat_minor": 5
}
